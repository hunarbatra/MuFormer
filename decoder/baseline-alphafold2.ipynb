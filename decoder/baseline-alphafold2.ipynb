{
  "cells": [
    {
      "cell_type": "code",
      "execution_count": null,
      "metadata": {
        "colab": {
          "base_uri": "https://localhost:8080/"
        },
        "id": "iKngTDDYsAOU",
        "outputId": "3daafe8f-41c2-4e69-ecb4-5cef2a4aa4fc"
      },
      "outputs": [],
      "source": [
        "%%bash\n",
        "if [ ! -d params ]; then\n",
        "  pip install git+https://github.com/hunarbatra/ColabDesign.git\n",
        "  mkdir params\n",
        "  curl -fsSL https://storage.googleapis.com/alphafold/alphafold_params_2021-07-14.tar | tar x -C params\n",
        "  echo \"starting...\"\n",
        "  for W in openfold_model_ptm_1 openfold_model_ptm_2 openfold_model_no_templ_ptm_1\n",
        "  do \n",
        "    wget -qnc https://files.ipd.uw.edu/krypton/openfold/${W}.npz -P params; \n",
        "  done\n",
        "fi"
      ]
    },
    {
      "cell_type": "code",
      "execution_count": null,
      "metadata": {
        "colab": {
          "base_uri": "https://localhost:8080/"
        },
        "id": "YsIQ5qmpfn-O",
        "outputId": "37f0e26c-bcc3-4f1e-9174-0d3abd70d2cd"
      },
      "outputs": [],
      "source": [
        "!pip3 install alphafold"
      ]
    },
    {
      "cell_type": "code",
      "execution_count": null,
      "metadata": {
        "id": "Vt7G_nbNeSQ3"
      },
      "outputs": [],
      "source": [
        "import warnings\n",
        "warnings.simplefilter(action='ignore', category=FutureWarning)\n",
        "\n",
        "import os\n",
        "from colabdesign import mk_afdesign_model, clear_mem\n",
        "from IPython.display import HTML\n",
        "from google.colab import files\n",
        "import numpy as np\n",
        "from alphafold.common import residue_constants\n",
        "\n",
        "def get_pdb(pdb_code=\"\",alphafold_model=False):\n",
        "  if pdb_code is None or pdb_code == \"\":\n",
        "    upload_dict = files.upload()\n",
        "    pdb_string = upload_dict[list(upload_dict.keys())[0]]\n",
        "    with open(\"tmp.pdb\",\"wb\") as out: out.write(pdb_string)\n",
        "    return \"tmp.pdb\"\n",
        "  else:\n",
        "    if alphafold_model:\n",
        "      os.system(f\"wget -qnc https://alphafold.ebi.ac.uk/files/AF-{pdb_code}-F1-model_v2.pdb\")\n",
        "      return f\"AF-{pdb_code}-F1-model_v2.pdb\"      \n",
        "    else:\n",
        "      os.system(f\"wget -qnc https://files.rcsb.org/view/{pdb_code}.pdb\")\n",
        "      return f\"{pdb_code}.pdb\""
      ]
    },
    {
      "cell_type": "code",
      "execution_count": null,
      "metadata": {
        "colab": {
          "base_uri": "https://localhost:8080/"
        },
        "id": "qLd1DsnKzxBJ",
        "outputId": "fac85dc3-40e5-462b-dcf3-7581dc831d6c"
      },
      "outputs": [
        {
          "name": "stdout",
          "output_type": "stream",
          "text": [
            "length 993\n"
          ]
        }
      ],
      "source": [
        "clear_mem()\n",
        "model = mk_afdesign_model(protocol=\"fixbb\",\n",
        "                          crop_len=128,\n",
        "                          use_templates=False) # set True to constrain structure\n",
        "\n",
        "pdb_filename = get_pdb(\"7LWV\")\n",
        "model.prep_inputs(pdb_filename, chain=\"A\")\n",
        "\n",
        "print(\"length\",  model._len)"
      ]
    },
    {
      "cell_type": "code",
      "execution_count": null,
      "metadata": {
        "colab": {
          "base_uri": "https://localhost:8080/"
        },
        "id": "xeVuwTYWmQmp",
        "outputId": "6ec5b015-9abf-4fbe-b845-8f3c5ff78958"
      },
      "outputs": [],
      "source": [
        "model.restart()\n",
        "\n",
        "model.opt[\"num_recycles\"] = 1\n",
        "\n",
        "model.design_3stage(50,50,10)"
      ]
    },
    {
      "cell_type": "code",
      "execution_count": null,
      "metadata": {
        "colab": {
          "base_uri": "https://localhost:8080/",
          "height": 621
        },
        "id": "cW1KQiHKJpfp",
        "outputId": "0779ed35-6f1f-45d7-960f-703583218cd1"
      },
      "outputs": [],
      "source": [
        "HTML(model.animate())"
      ]
    },
    {
      "cell_type": "code",
      "execution_count": null,
      "metadata": {
        "colab": {
          "base_uri": "https://localhost:8080/"
        },
        "id": "YDrChASGVUUx",
        "outputId": "6e3b4854-8171-4014-c521-631626a387d4"
      },
      "outputs": [],
      "source": [
        "model.get_seqs()"
      ]
    },
    {
      "cell_type": "code",
      "execution_count": null,
      "metadata": {
        "colab": {
          "base_uri": "https://localhost:8080/",
          "height": 497
        },
        "id": "YEApO8YzBoS0",
        "outputId": "9706da87-bed2-4aea-945f-f933adf12f40"
      },
      "outputs": [],
      "source": [
        "model.save_pdb(f\"{model.protocol}.pdb\")\n",
        "model.plot_pdb()"
      ]
    }
  ],
  "metadata": {
    "accelerator": "GPU",
    "colab": {
      "collapsed_sections": [],
      "provenance": []
    },
    "gpuClass": "standard",
    "kernelspec": {
      "display_name": "Python 3",
      "name": "python3"
    },
    "language_info": {
      "name": "python"
    }
  },
  "nbformat": 4,
  "nbformat_minor": 0
}
